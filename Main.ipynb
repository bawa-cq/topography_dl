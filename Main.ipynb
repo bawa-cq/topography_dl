{
 "cells": [
  {
   "cell_type": "code",
   "execution_count": 1,
   "metadata": {},
   "outputs": [],
   "source": [
    "import warnings\n",
    "warnings.filterwarnings('ignore')"
   ]
  },
  {
   "cell_type": "code",
   "execution_count": 2,
   "metadata": {},
   "outputs": [
    {
     "name": "stderr",
     "output_type": "stream",
     "text": [
      "Using TensorFlow backend.\n"
     ]
    }
   ],
   "source": [
    "import numpy as np\n",
    "import pandas as pd\n",
    "import math\n",
    "\n",
    "from netCDF4 import Dataset\n",
    "import matplotlib.pyplot as plt\n",
    "from sklearn.model_selection import train_test_split\n",
    "import keras\n",
    "from keras.layers import Input"
   ]
  },
  {
   "cell_type": "code",
   "execution_count": 4,
   "metadata": {},
   "outputs": [],
   "source": [
    "import callbacks\n",
    "import losses\n",
    "import utils\n",
    "from models.AE import build_AE"
   ]
  },
  {
   "cell_type": "markdown",
   "metadata": {},
   "source": [
    "# 1. Loading the data "
   ]
  },
  {
   "cell_type": "code",
   "execution_count": 5,
   "metadata": {},
   "outputs": [],
   "source": [
    "nc = Dataset('../Data/tohoku_2020.nc', 'r')\n",
    "dim1 = int(np.array(nc.variables['lon']).shape[0])\n",
    "dim2 = int(np.array(nc.variables['lat']).shape[0])\n",
    "Z = np.flip(np.array(nc.variables['elevation']), axis=0) #otherwise the 'map' is upside down and mirrored"
   ]
  },
  {
   "cell_type": "markdown",
   "metadata": {},
   "source": [
    "Plotting the full GEBCO may take time"
   ]
  },
  {
   "cell_type": "code",
   "execution_count": 6,
   "metadata": {},
   "outputs": [],
   "source": [
    "#plt.figure(figsize=(10,5))\n",
    "#plt.imshow(Z)"
   ]
  },
  {
   "cell_type": "markdown",
   "metadata": {},
   "source": [
    "# 2. Pre-processing"
   ]
  },
  {
   "cell_type": "markdown",
   "metadata": {},
   "source": [
    "#### Scale input into [0,1] where 0 is the global minimum and 1 global maximum. Necessary since the models were trained on the global data."
   ]
  },
  {
   "cell_type": "code",
   "execution_count": 7,
   "metadata": {},
   "outputs": [],
   "source": [
    "# min and max values from the global GEBCO 2019 version\n",
    "Z_global_min = -10880.587890625\n",
    "Z_global_max = 8613.15625\n",
    "\n",
    "\n",
    "Z_min = Z_global_min\n",
    "Z_max = Z_global_max + np.abs(Z_min)\n",
    "\n",
    "\n",
    "Z = (Z + np.abs(Z_min)) / Z_max # is now in [0,1] of either local data domain or global"
   ]
  },
  {
   "cell_type": "markdown",
   "metadata": {},
   "source": [
    "#### Break down into samples of size (x,y)"
   ]
  },
  {
   "cell_type": "code",
   "execution_count": 8,
   "metadata": {},
   "outputs": [],
   "source": [
    "x, y = 96, 96"
   ]
  },
  {
   "cell_type": "code",
   "execution_count": 9,
   "metadata": {},
   "outputs": [],
   "source": [
    "num_images = int(dim1*dim2 / (x*y))\n",
    "\n",
    "cutoff_x = math.ceil(x * (dim1/x-int(dim1/x)))\n",
    "cutoff_y = math.ceil(y * (dim2/y-int(dim2/y)))"
   ]
  },
  {
   "cell_type": "markdown",
   "metadata": {},
   "source": [
    "number of images; amount of pixels lost on x-axis; y-axis"
   ]
  },
  {
   "cell_type": "code",
   "execution_count": 10,
   "metadata": {},
   "outputs": [
    {
     "data": {
      "text/plain": [
       "(17805, 66, 39)"
      ]
     },
     "execution_count": 10,
     "metadata": {},
     "output_type": "execute_result"
    }
   ],
   "source": [
    "num_images, cutoff_x, cutoff_y"
   ]
  },
  {
   "cell_type": "markdown",
   "metadata": {},
   "source": [
    "#### Reshaping"
   ]
  },
  {
   "cell_type": "code",
   "execution_count": 11,
   "metadata": {},
   "outputs": [],
   "source": [
    "data = np.zeros([num_images, y, x])\n",
    "i=0\n",
    "for r in range(0, Z.shape[0]-cutoff_y, y):\n",
    "    for c in range(0, Z.shape[1]-cutoff_x, x):\n",
    "        data[i, :, :] = Z[r:r+y, c:c+x]\n",
    "        i = i + 1\n",
    "\n",
    "#reshaping for keras model input\n",
    "data = data.reshape(-1, y, x, 1)"
   ]
  },
  {
   "cell_type": "markdown",
   "metadata": {},
   "source": [
    "# 3. Build model "
   ]
  },
  {
   "cell_type": "code",
   "execution_count": 12,
   "metadata": {},
   "outputs": [
    {
     "name": "stdout",
     "output_type": "stream",
     "text": [
      "WARNING:tensorflow:From /usr/local/anaconda3/envs/py37/lib/python3.7/site-packages/keras/backend/tensorflow_backend.py:517: The name tf.placeholder is deprecated. Please use tf.compat.v1.placeholder instead.\n",
      "\n"
     ]
    }
   ],
   "source": [
    "inputs  = Input(shape = (y, x, 1), name='encoder_inputs')"
   ]
  },
  {
   "cell_type": "code",
   "execution_count": 17,
   "metadata": {},
   "outputs": [],
   "source": [
    "model = build_AE(inputs)\n",
    "#model = build_VAE(inputs)\n",
    "#model = build_VAE_DFC(inputs)\n",
    "\n",
    "encoded = keras.models.Model(inputs=inputs, outputs=model.get_layer('encoded').output)"
   ]
  },
  {
   "cell_type": "markdown",
   "metadata": {},
   "source": [
    "Model summary:"
   ]
  },
  {
   "cell_type": "code",
   "execution_count": null,
   "metadata": {},
   "outputs": [],
   "source": [
    "#model.summary()"
   ]
  },
  {
   "cell_type": "markdown",
   "metadata": {},
   "source": [
    "# 4. Load weights "
   ]
  },
  {
   "cell_type": "code",
   "execution_count": 14,
   "metadata": {},
   "outputs": [],
   "source": [
    "model.load_weights('pre-trained_weights/AE.hd5')\n",
    "#model.load_weights('pre-trained_weights/VAE.hdf5')\n",
    "#model.load_weights('pre-trained_weights/VAE_DFC.hdf5')"
   ]
  },
  {
   "cell_type": "code",
   "execution_count": 18,
   "metadata": {},
   "outputs": [],
   "source": [
    "data_reconstructed = model.predict(data)\n",
    "data_encoded = np.mean(encoded.predict(data), axis=3, keepdims=True)"
   ]
  },
  {
   "cell_type": "markdown",
   "metadata": {},
   "source": [
    "overall and maximum error"
   ]
  },
  {
   "cell_type": "code",
   "execution_count": 19,
   "metadata": {},
   "outputs": [
    {
     "data": {
      "text/plain": [
       "(155.0464219763884, array([10.66763592]))"
      ]
     },
     "execution_count": 19,
     "metadata": {},
     "output_type": "execute_result"
    }
   ],
   "source": [
    "error = np.linalg.norm(data - data_reconstructed, axis=(1,2))\n",
    "\n",
    "\n",
    "x1 = np.argmax(error)\n",
    "np.linalg.norm(error), error[x1]"
   ]
  },
  {
   "cell_type": "markdown",
   "metadata": {},
   "source": [
    "plot worst reconstruction"
   ]
  },
  {
   "cell_type": "code",
   "execution_count": 29,
   "metadata": {},
   "outputs": [],
   "source": [
    "normalize = True"
   ]
  },
  {
   "cell_type": "code",
   "execution_count": 28,
   "metadata": {},
   "outputs": [
    {
     "data": {
      "text/plain": [
       "<matplotlib.image.AxesImage at 0x1a48db4e90>"
      ]
     },
     "execution_count": 28,
     "metadata": {},
     "output_type": "execute_result"
    },
    {
     "data": {
      "image/png": "[encoded data removed]",
      "text/plain": [
       "<Figure size 720x720 with 3 Axes>"
      ]
     },
     "metadata": {
      "needs_background": "light"
     },
     "output_type": "display_data"
    }
   ],
   "source": [
    "vmin = np.min(data[x1, :, :, 0])\n",
    "vmax = np.max(data[x1, :, :, 0])\n",
    "\n",
    "if normalize:\n",
    "    norm = plt.Normalize(vmin=vmin, vmax=vmax)\n",
    "else:\n",
    "    norm = None\n",
    "\n",
    "plt.figure(figsize=(10,10))\n",
    "plt.subplot(2,2,1)\n",
    "plt.title(\"Original\")\n",
    "plt.imshow(data[x1, :, :, 0], norm=norm)\n",
    "plt.subplot(2,2,2)\n",
    "plt.title(\"Reconstruction\")\n",
    "plt.imshow(data_reconstructed[x1, :, :, 0], norm=norm)\n",
    "plt.subplot(2,2,3)\n",
    "plt.title(\"Encoded\")\n",
    "plt.imshow(data_encoded[x1, :, :, 0], norm=norm)"
   ]
  },
  {
   "cell_type": "code",
   "execution_count": null,
   "metadata": {},
   "outputs": [],
   "source": []
  },
  {
   "cell_type": "code",
   "execution_count": null,
   "metadata": {},
   "outputs": [],
   "source": []
  }
 ],
 "metadata": {
  "kernelspec": {
   "display_name": "Python 3",
   "language": "python",
   "name": "python3"
  },
  "language_info": {
   "codemirror_mode": {
    "name": "ipython",
    "version": 3
   },
   "file_extension": ".py",
   "mimetype": "text/x-python",
   "name": "python",
   "nbconvert_exporter": "python",
   "pygments_lexer": "ipython3",
   "version": "3.7.4"
  }
 },
 "nbformat": 4,
 "nbformat_minor": 2
}
